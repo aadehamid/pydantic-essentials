{
 "cells": [
  {
   "cell_type": "code",
   "execution_count": 34,
   "metadata": {},
   "outputs": [],
   "source": [
    "from pydantic import BaseModel, ValidationError, Field\n",
    "from rich import print as pprint"
   ]
  },
  {
   "cell_type": "code",
   "execution_count": 40,
   "metadata": {},
   "outputs": [],
   "source": [
    "class Coordinates(BaseModel):\n",
    "    lat: float = Field(..., alias=\"latitude\")\n",
    "    lon: float = Field(..., alias=\"longitude\")"
   ]
  },
  {
   "cell_type": "code",
   "execution_count": 41,
   "metadata": {},
   "outputs": [
    {
     "data": {
      "text/html": [
       "<pre style=\"white-space:pre;overflow-x:auto;line-height:normal;font-family:Menlo,'DejaVu Sans Mono',consolas,'Courier New',monospace\"><span style=\"color: #800080; text-decoration-color: #800080; font-weight: bold\">Coordinates</span><span style=\"font-weight: bold\">(</span><span style=\"color: #808000; text-decoration-color: #808000\">lat</span>=<span style=\"color: #008080; text-decoration-color: #008080; font-weight: bold\">100.0</span>, <span style=\"color: #808000; text-decoration-color: #808000\">lon</span>=<span style=\"color: #008080; text-decoration-color: #008080; font-weight: bold\">100.0</span><span style=\"font-weight: bold\">)</span>\n",
       "</pre>\n"
      ],
      "text/plain": [
       "\u001b[1;35mCoordinates\u001b[0m\u001b[1m(\u001b[0m\u001b[33mlat\u001b[0m=\u001b[1;36m100\u001b[0m\u001b[1;36m.0\u001b[0m, \u001b[33mlon\u001b[0m=\u001b[1;36m100\u001b[0m\u001b[1;36m.0\u001b[0m\u001b[1m)\u001b[0m\n"
      ]
     },
     "metadata": {},
     "output_type": "display_data"
    },
    {
     "data": {
      "text/html": [
       "<pre style=\"white-space:pre;overflow-x:auto;line-height:normal;font-family:Menlo,'DejaVu Sans Mono',consolas,'Courier New',monospace\"><span style=\"font-weight: bold\">{</span><span style=\"color: #008000; text-decoration-color: #008000\">'lat'</span>: <span style=\"color: #008080; text-decoration-color: #008080; font-weight: bold\">100.0</span>, <span style=\"color: #008000; text-decoration-color: #008000\">'lon'</span>: <span style=\"color: #008080; text-decoration-color: #008080; font-weight: bold\">100.0</span><span style=\"font-weight: bold\">}</span>\n",
       "</pre>\n"
      ],
      "text/plain": [
       "\u001b[1m{\u001b[0m\u001b[32m'lat'\u001b[0m: \u001b[1;36m100.0\u001b[0m, \u001b[32m'lon'\u001b[0m: \u001b[1;36m100.0\u001b[0m\u001b[1m}\u001b[0m\n"
      ]
     },
     "metadata": {},
     "output_type": "display_data"
    },
    {
     "data": {
      "text/html": [
       "<pre style=\"white-space:pre;overflow-x:auto;line-height:normal;font-family:Menlo,'DejaVu Sans Mono',consolas,'Courier New',monospace\"><span style=\"font-weight: bold\">{</span><span style=\"color: #008000; text-decoration-color: #008000\">'latitude'</span>: <span style=\"color: #008080; text-decoration-color: #008080; font-weight: bold\">100.0</span>, <span style=\"color: #008000; text-decoration-color: #008000\">'longitude'</span>: <span style=\"color: #008080; text-decoration-color: #008080; font-weight: bold\">100.0</span><span style=\"font-weight: bold\">}</span>\n",
       "</pre>\n"
      ],
      "text/plain": [
       "\u001b[1m{\u001b[0m\u001b[32m'latitude'\u001b[0m: \u001b[1;36m100.0\u001b[0m, \u001b[32m'longitude'\u001b[0m: \u001b[1;36m100.0\u001b[0m\u001b[1m}\u001b[0m\n"
      ]
     },
     "metadata": {},
     "output_type": "display_data"
    }
   ],
   "source": [
    "p1 = Coordinates(latitude=100, longitude=100)\n",
    "pprint(p1)\n",
    "pprint(p1.model_dump())\n",
    "pprint(p1.model_dump(by_alias=True))\n"
   ]
  },
  {
   "cell_type": "code",
   "execution_count": 43,
   "metadata": {},
   "outputs": [
    {
     "data": {
      "text/plain": [
       "{'lat': FieldInfo(annotation=float, required=True, alias='latitude', alias_priority=2),\n",
       " 'lon': FieldInfo(annotation=float, required=True, alias='longitude', alias_priority=2)}"
      ]
     },
     "execution_count": 43,
     "metadata": {},
     "output_type": "execute_result"
    }
   ],
   "source": [
    "Coordinates.model_fields"
   ]
  },
  {
   "cell_type": "code",
   "execution_count": 47,
   "metadata": {},
   "outputs": [
    {
     "data": {
      "text/plain": [
       "float"
      ]
     },
     "execution_count": 47,
     "metadata": {},
     "output_type": "execute_result"
    }
   ],
   "source": [
    "type(p1.lat)"
   ]
  },
  {
   "cell_type": "code",
   "execution_count": 49,
   "metadata": {},
   "outputs": [
    {
     "data": {
      "text/html": [
       "<pre style=\"white-space:pre;overflow-x:auto;line-height:normal;font-family:Menlo,'DejaVu Sans Mono',consolas,'Courier New',monospace\"><span style=\"color: #800080; text-decoration-color: #800080; font-weight: bold\">Coordinates</span><span style=\"font-weight: bold\">(</span><span style=\"color: #808000; text-decoration-color: #808000\">lat</span>=<span style=\"color: #008080; text-decoration-color: #008080; font-weight: bold\">100.0</span>, <span style=\"color: #808000; text-decoration-color: #808000\">lon</span>=<span style=\"color: #008080; text-decoration-color: #008080; font-weight: bold\">100.8</span><span style=\"font-weight: bold\">)</span>\n",
       "</pre>\n"
      ],
      "text/plain": [
       "\u001b[1;35mCoordinates\u001b[0m\u001b[1m(\u001b[0m\u001b[33mlat\u001b[0m=\u001b[1;36m100\u001b[0m\u001b[1;36m.0\u001b[0m, \u001b[33mlon\u001b[0m=\u001b[1;36m100\u001b[0m\u001b[1;36m.8\u001b[0m\u001b[1m)\u001b[0m\n"
      ]
     },
     "metadata": {},
     "output_type": "display_data"
    },
    {
     "data": {
      "text/html": [
       "<pre style=\"white-space:pre;overflow-x:auto;line-height:normal;font-family:Menlo,'DejaVu Sans Mono',consolas,'Courier New',monospace\"><span style=\"font-weight: bold\">{</span><span style=\"color: #008000; text-decoration-color: #008000\">'lat'</span>: <span style=\"color: #008080; text-decoration-color: #008080; font-weight: bold\">100.0</span>, <span style=\"color: #008000; text-decoration-color: #008000\">'lon'</span>: <span style=\"color: #008080; text-decoration-color: #008080; font-weight: bold\">100.8</span><span style=\"font-weight: bold\">}</span>\n",
       "</pre>\n"
      ],
      "text/plain": [
       "\u001b[1m{\u001b[0m\u001b[32m'lat'\u001b[0m: \u001b[1;36m100.0\u001b[0m, \u001b[32m'lon'\u001b[0m: \u001b[1;36m100.8\u001b[0m\u001b[1m}\u001b[0m\n"
      ]
     },
     "metadata": {},
     "output_type": "display_data"
    },
    {
     "data": {
      "text/html": [
       "<pre style=\"white-space:pre;overflow-x:auto;line-height:normal;font-family:Menlo,'DejaVu Sans Mono',consolas,'Courier New',monospace\"><span style=\"font-weight: bold\">{</span><span style=\"color: #008000; text-decoration-color: #008000\">'latitude'</span>: <span style=\"color: #008080; text-decoration-color: #008080; font-weight: bold\">100.0</span>, <span style=\"color: #008000; text-decoration-color: #008000\">'longitude'</span>: <span style=\"color: #008080; text-decoration-color: #008080; font-weight: bold\">100.8</span><span style=\"font-weight: bold\">}</span>\n",
       "</pre>\n"
      ],
      "text/plain": [
       "\u001b[1m{\u001b[0m\u001b[32m'latitude'\u001b[0m: \u001b[1;36m100.0\u001b[0m, \u001b[32m'longitude'\u001b[0m: \u001b[1;36m100.8\u001b[0m\u001b[1m}\u001b[0m\n"
      ]
     },
     "metadata": {},
     "output_type": "display_data"
    }
   ],
   "source": [
    "p2 = Coordinates(latitude=100, longitude='100.8')\n",
    "pprint(p2)\n",
    "pprint(p2.model_dump())\n",
    "pprint(p2.model_dump(by_alias=True))"
   ]
  },
  {
   "cell_type": "code",
   "execution_count": 51,
   "metadata": {},
   "outputs": [
    {
     "data": {
      "text/plain": [
       "(float, 100.8)"
      ]
     },
     "execution_count": 51,
     "metadata": {},
     "output_type": "execute_result"
    }
   ],
   "source": [
    "type(p2.lon), p2.lon"
   ]
  },
  {
   "cell_type": "code",
   "execution_count": 52,
   "metadata": {},
   "outputs": [],
   "source": [
    "class Model(BaseModel):\n",
    "    field: str = Field(..., min_length=5)"
   ]
  },
  {
   "cell_type": "code",
   "execution_count": 55,
   "metadata": {},
   "outputs": [
    {
     "data": {
      "text/html": [
       "<pre style=\"white-space:pre;overflow-x:auto;line-height:normal;font-family:Menlo,'DejaVu Sans Mono',consolas,'Courier New',monospace\"><span style=\"color: #008080; text-decoration-color: #008080; font-weight: bold\">1</span> validation error for Model\n",
       "field\n",
       "  Input should be a valid string <span style=\"font-weight: bold\">[</span><span style=\"color: #808000; text-decoration-color: #808000\">type</span>=<span style=\"color: #800080; text-decoration-color: #800080\">string_type</span>, <span style=\"color: #808000; text-decoration-color: #808000\">input_value</span>=<span style=\"color: #008080; text-decoration-color: #008080; font-weight: bold\">1234589</span>, <span style=\"color: #808000; text-decoration-color: #808000\">input_type</span>=<span style=\"color: #800080; text-decoration-color: #800080\">int</span><span style=\"font-weight: bold\">]</span>\n",
       "    For further information visit <span style=\"color: #0000ff; text-decoration-color: #0000ff; text-decoration: underline\">https://errors.pydantic.dev/2.9/v/string_type</span>\n",
       "</pre>\n"
      ],
      "text/plain": [
       "\u001b[1;36m1\u001b[0m validation error for Model\n",
       "field\n",
       "  Input should be a valid string \u001b[1m[\u001b[0m\u001b[33mtype\u001b[0m=\u001b[35mstring_type\u001b[0m, \u001b[33minput_value\u001b[0m=\u001b[1;36m1234589\u001b[0m, \u001b[33minput_type\u001b[0m=\u001b[35mint\u001b[0m\u001b[1m]\u001b[0m\n",
       "    For further information visit \u001b[4;94mhttps://errors.pydantic.dev/2.9/v/string_type\u001b[0m\n"
      ]
     },
     "metadata": {},
     "output_type": "display_data"
    }
   ],
   "source": [
    "try:\n",
    "    Model(field=1234589)\n",
    "except ValidationError as e:\n",
    "    pprint(e)"
   ]
  },
  {
   "cell_type": "code",
   "execution_count": 58,
   "metadata": {},
   "outputs": [],
   "source": [
    "class Contact(BaseModel):\n",
    "    email: str = Field(..., pattern=r\"^[a-zA-Z0-9_.+-]+@[a-zA-Z0-9-]+\\.[a-zA-Z0-9-.]+$\")\n",
    "try:\n",
    "    Contact(email=\"hamid@gmail.com\")\n",
    "except ValidationError as e:\n",
    "    pprint(e)"
   ]
  },
  {
   "cell_type": "code",
   "execution_count": 64,
   "metadata": {},
   "outputs": [],
   "source": [
    "initial_json_data = '''\n",
    "{\"email\":  \"hamid@gmail.com\" }\n",
    "'''\n",
    "try:\n",
    "    Contact.model_validate_json(initial_json_data)\n",
    "except ValidationError as e:\n",
    "    pprint(e)"
   ]
  },
  {
   "cell_type": "code",
   "execution_count": 67,
   "metadata": {},
   "outputs": [
    {
     "data": {
      "text/html": [
       "<pre style=\"white-space:pre;overflow-x:auto;line-height:normal;font-family:Menlo,'DejaVu Sans Mono',consolas,'Courier New',monospace\"><span style=\"color: #008080; text-decoration-color: #008080; font-weight: bold\">1</span> validation error for Contact\n",
       "email\n",
       "  Input should be a valid string <span style=\"font-weight: bold\">[</span><span style=\"color: #808000; text-decoration-color: #808000\">type</span>=<span style=\"color: #800080; text-decoration-color: #800080\">string_type</span>, <span style=\"color: #808000; text-decoration-color: #808000\">input_value</span>=<span style=\"font-weight: bold\">{</span><span style=\"color: #008000; text-decoration-color: #008000\">'personal'</span>: <span style=\"color: #008000; text-decoration-color: #008000\">'hamid@gmail...work'</span>: \n",
       "<span style=\"color: #008000; text-decoration-color: #008000\">'hamid@work.com'</span><span style=\"font-weight: bold\">}</span>, <span style=\"color: #808000; text-decoration-color: #808000\">input_type</span>=<span style=\"color: #800080; text-decoration-color: #800080\">dict</span><span style=\"font-weight: bold\">]</span>\n",
       "    For further information visit <span style=\"color: #0000ff; text-decoration-color: #0000ff; text-decoration: underline\">https://errors.pydantic.dev/2.9/v/string_type</span>\n",
       "</pre>\n"
      ],
      "text/plain": [
       "\u001b[1;36m1\u001b[0m validation error for Contact\n",
       "email\n",
       "  Input should be a valid string \u001b[1m[\u001b[0m\u001b[33mtype\u001b[0m=\u001b[35mstring_type\u001b[0m, \u001b[33minput_value\u001b[0m=\u001b[1m{\u001b[0m\u001b[32m'personal'\u001b[0m: \u001b[32m'hamid@gmail...work'\u001b[0m: \n",
       "\u001b[32m'hamid@work.com'\u001b[0m\u001b[1m}\u001b[0m, \u001b[33minput_type\u001b[0m=\u001b[35mdict\u001b[0m\u001b[1m]\u001b[0m\n",
       "    For further information visit \u001b[4;94mhttps://errors.pydantic.dev/2.9/v/string_type\u001b[0m\n"
      ]
     },
     "metadata": {},
     "output_type": "display_data"
    }
   ],
   "source": [
    "new_json_data = '''\n",
    "{\n",
    "    \"email\": {\n",
    "                \"personal\": \"hamid@gmail.com\",\n",
    "                \"work\": \"hamid@work.com\"\n",
    "            }\n",
    "}\n",
    "'''\n",
    "try:\n",
    "    Contact.model_validate_json(new_json_data)\n",
    "except ValidationError as e:\n",
    "    pprint(e)"
   ]
  },
  {
   "cell_type": "code",
   "execution_count": 68,
   "metadata": {},
   "outputs": [
    {
     "data": {
      "text/html": [
       "<pre style=\"white-space:pre;overflow-x:auto;line-height:normal;font-family:Menlo,'DejaVu Sans Mono',consolas,'Courier New',monospace\"><span style=\"color: #008080; text-decoration-color: #008080; font-weight: bold\">1</span> validation error for Contact\n",
       "  Input should be a valid dictionary or instance of Contact <span style=\"font-weight: bold\">[</span><span style=\"color: #808000; text-decoration-color: #808000\">type</span>=<span style=\"color: #800080; text-decoration-color: #800080\">model_type</span>, <span style=\"color: #808000; text-decoration-color: #808000\">input_value</span>=<span style=\"color: #008000; text-decoration-color: #008000\">\"{'personal': </span>\n",
       "<span style=\"color: #008000; text-decoration-color: #008000\">'hamid@gmai...ork': 'hamid@work.com'}\"</span>, <span style=\"color: #808000; text-decoration-color: #808000\">input_type</span>=<span style=\"color: #800080; text-decoration-color: #800080\">str</span><span style=\"font-weight: bold\">]</span>\n",
       "    For further information visit <span style=\"color: #0000ff; text-decoration-color: #0000ff; text-decoration: underline\">https://errors.pydantic.dev/2.9/v/model_type</span>\n",
       "</pre>\n"
      ],
      "text/plain": [
       "\u001b[1;36m1\u001b[0m validation error for Contact\n",
       "  Input should be a valid dictionary or instance of Contact \u001b[1m[\u001b[0m\u001b[33mtype\u001b[0m=\u001b[35mmodel_type\u001b[0m, \u001b[33minput_value\u001b[0m=\u001b[32m\"\u001b[0m\u001b[32m{\u001b[0m\u001b[32m'personal': \u001b[0m\n",
       "\u001b[32m'hamid@gmai...ork': 'hamid@work.com'\u001b[0m\u001b[32m}\u001b[0m\u001b[32m\"\u001b[0m, \u001b[33minput_type\u001b[0m=\u001b[35mstr\u001b[0m\u001b[1m]\u001b[0m\n",
       "    For further information visit \u001b[4;94mhttps://errors.pydantic.dev/2.9/v/model_type\u001b[0m\n"
      ]
     },
     "metadata": {},
     "output_type": "display_data"
    }
   ],
   "source": [
    "new_data = {\n",
    "    \"email\": {\n",
    "                \"personal\": \"hamid@gmail.com\",\n",
    "                \"work\": \"hamid@work.com\"\n",
    "            }\n",
    "}\n"
   ]
  },
  {
   "cell_type": "code",
   "execution_count": 73,
   "metadata": {},
   "outputs": [
    {
     "data": {
      "text/html": [
       "<pre style=\"white-space:pre;overflow-x:auto;line-height:normal;font-family:Menlo,'DejaVu Sans Mono',consolas,'Courier New',monospace\"><span style=\"color: #008080; text-decoration-color: #008080; font-weight: bold\">1</span> validation error for Contact\n",
       "  Input should be a valid dictionary or instance of Contact <span style=\"font-weight: bold\">[</span><span style=\"color: #808000; text-decoration-color: #808000\">type</span>=<span style=\"color: #800080; text-decoration-color: #800080\">model_type</span>, <span style=\"color: #808000; text-decoration-color: #808000\">input_value</span>=<span style=\"color: #008000; text-decoration-color: #008000\">\"{'personal': </span>\n",
       "<span style=\"color: #008000; text-decoration-color: #008000\">'hamid@gmai...ork': 'hamid@work.com'}\"</span>, <span style=\"color: #808000; text-decoration-color: #808000\">input_type</span>=<span style=\"color: #800080; text-decoration-color: #800080\">str</span><span style=\"font-weight: bold\">]</span>\n",
       "    For further information visit <span style=\"color: #0000ff; text-decoration-color: #0000ff; text-decoration: underline\">https://errors.pydantic.dev/2.9/v/model_type</span>\n",
       "</pre>\n"
      ],
      "text/plain": [
       "\u001b[1;36m1\u001b[0m validation error for Contact\n",
       "  Input should be a valid dictionary or instance of Contact \u001b[1m[\u001b[0m\u001b[33mtype\u001b[0m=\u001b[35mmodel_type\u001b[0m, \u001b[33minput_value\u001b[0m=\u001b[32m\"\u001b[0m\u001b[32m{\u001b[0m\u001b[32m'personal': \u001b[0m\n",
       "\u001b[32m'hamid@gmai...ork': 'hamid@work.com'\u001b[0m\u001b[32m}\u001b[0m\u001b[32m\"\u001b[0m, \u001b[33minput_type\u001b[0m=\u001b[35mstr\u001b[0m\u001b[1m]\u001b[0m\n",
       "    For further information visit \u001b[4;94mhttps://errors.pydantic.dev/2.9/v/model_type\u001b[0m\n"
      ]
     },
     "metadata": {},
     "output_type": "display_data"
    }
   ],
   "source": [
    "try:\n",
    "    Contact.model_validate(str(new_data[\"email\"]))\n",
    "except ValidationError as e:\n",
    "    pprint(e)"
   ]
  },
  {
   "cell_type": "code",
   "execution_count": 71,
   "metadata": {},
   "outputs": [
    {
     "data": {
      "text/plain": [
       "Contact(email=\"{'personal': 'hamid@gmail.com', 'work': 'hamid@work.com'}\")"
      ]
     },
     "execution_count": 71,
     "metadata": {},
     "output_type": "execute_result"
    }
   ],
   "source": [
    "class Contact(BaseModel):\n",
    "    email: str = Field(...)\n",
    "\n",
    "\n",
    "Contact(email = str(new_data[\"email\"]))"
   ]
  },
  {
   "cell_type": "markdown",
   "metadata": {},
   "source": [
    "# Required and Optional Arguments\n"
   ]
  },
  {
   "cell_type": "code",
   "execution_count": 82,
   "metadata": {},
   "outputs": [],
   "source": [
    "from math import pi\n",
    "\n",
    "\n",
    "class Circle(BaseModel):\n",
    "    center: tuple[float, float] = Field(\n",
    "        default=(0, 0), description=\"The center of the circle\"\n",
    "    )\n",
    "    radius: float = Field(default=1, gt=0, description=\"The radius of the circle\")\n",
    "    circumference: float = Field(\n",
    "        default=None, gt=0, description=\"The circumference of the circle\"\n",
    "    )\n",
    "    area: float = Field(default=None, gt=0, description=\"The area of the circle\")\n",
    "\n",
    "    def __init__(self, **data):\n",
    "        super().__init__(**data)\n",
    "        if self.circumference is None:\n",
    "            self.circumference = 2 * pi * self.radius\n",
    "        if self.area is None:\n",
    "            self.area = pi * self.radius**2"
   ]
  },
  {
   "cell_type": "code",
   "execution_count": 83,
   "metadata": {},
   "outputs": [
    {
     "data": {
      "text/plain": [
       "{'center': FieldInfo(annotation=tuple[float, float], required=False, default=(0, 0), description='The center of the circle'),\n",
       " 'radius': FieldInfo(annotation=float, required=False, default=1, description='The radius of the circle', metadata=[Gt(gt=0)]),\n",
       " 'circumference': FieldInfo(annotation=float, required=False, default=None, description='The circumference of the circle', metadata=[Gt(gt=0)]),\n",
       " 'area': FieldInfo(annotation=float, required=False, default=None, description='The area of the circle', metadata=[Gt(gt=0)])}"
      ]
     },
     "execution_count": 83,
     "metadata": {},
     "output_type": "execute_result"
    }
   ],
   "source": [
    "Circle.model_fields"
   ]
  },
  {
   "cell_type": "code",
   "execution_count": 84,
   "metadata": {},
   "outputs": [
    {
     "data": {
      "text/html": [
       "<pre style=\"white-space:pre;overflow-x:auto;line-height:normal;font-family:Menlo,'DejaVu Sans Mono',consolas,'Courier New',monospace\"><span style=\"color: #800080; text-decoration-color: #800080; font-weight: bold\">Circle</span><span style=\"font-weight: bold\">(</span><span style=\"color: #808000; text-decoration-color: #808000\">center</span>=<span style=\"font-weight: bold\">(</span><span style=\"color: #008080; text-decoration-color: #008080; font-weight: bold\">0</span>, <span style=\"color: #008080; text-decoration-color: #008080; font-weight: bold\">0</span><span style=\"font-weight: bold\">)</span>, <span style=\"color: #808000; text-decoration-color: #808000\">radius</span>=<span style=\"color: #008080; text-decoration-color: #008080; font-weight: bold\">10.0</span>, <span style=\"color: #808000; text-decoration-color: #808000\">circumference</span>=<span style=\"color: #008080; text-decoration-color: #008080; font-weight: bold\">62.83185307179586</span>, <span style=\"color: #808000; text-decoration-color: #808000\">area</span>=<span style=\"color: #008080; text-decoration-color: #008080; font-weight: bold\">314.1592653589793</span><span style=\"font-weight: bold\">)</span>\n",
       "</pre>\n"
      ],
      "text/plain": [
       "\u001b[1;35mCircle\u001b[0m\u001b[1m(\u001b[0m\u001b[33mcenter\u001b[0m=\u001b[1m(\u001b[0m\u001b[1;36m0\u001b[0m, \u001b[1;36m0\u001b[0m\u001b[1m)\u001b[0m, \u001b[33mradius\u001b[0m=\u001b[1;36m10\u001b[0m\u001b[1;36m.0\u001b[0m, \u001b[33mcircumference\u001b[0m=\u001b[1;36m62\u001b[0m\u001b[1;36m.83185307179586\u001b[0m, \u001b[33marea\u001b[0m=\u001b[1;36m314\u001b[0m\u001b[1;36m.1592653589793\u001b[0m\u001b[1m)\u001b[0m\n"
      ]
     },
     "metadata": {},
     "output_type": "display_data"
    },
    {
     "data": {
      "text/html": [
       "<pre style=\"white-space:pre;overflow-x:auto;line-height:normal;font-family:Menlo,'DejaVu Sans Mono',consolas,'Courier New',monospace\"><span style=\"color: #008080; text-decoration-color: #008080; font-weight: bold\">62.83185307179586</span>\n",
       "</pre>\n"
      ],
      "text/plain": [
       "\u001b[1;36m62.83185307179586\u001b[0m\n"
      ]
     },
     "metadata": {},
     "output_type": "display_data"
    },
    {
     "data": {
      "text/html": [
       "<pre style=\"white-space:pre;overflow-x:auto;line-height:normal;font-family:Menlo,'DejaVu Sans Mono',consolas,'Courier New',monospace\"><span style=\"color: #008080; text-decoration-color: #008080; font-weight: bold\">314.1592653589793</span>\n",
       "</pre>\n"
      ],
      "text/plain": [
       "\u001b[1;36m314.1592653589793\u001b[0m\n"
      ]
     },
     "metadata": {},
     "output_type": "display_data"
    }
   ],
   "source": [
    "cir = Circle(radius=10)\n",
    "pprint(cir)\n",
    "pprint(cir.circumference)\n",
    "pprint(cir.area)"
   ]
  },
  {
   "cell_type": "code",
   "execution_count": 86,
   "metadata": {},
   "outputs": [
    {
     "data": {
      "text/plain": [
       "314.1592653589793"
      ]
     },
     "execution_count": 86,
     "metadata": {},
     "output_type": "execute_result"
    }
   ],
   "source": [
    " 10 ** 2 * pi"
   ]
  },
  {
   "cell_type": "code",
   "execution_count": null,
   "metadata": {},
   "outputs": [],
   "source": []
  }
 ],
 "metadata": {
  "kernelspec": {
   "display_name": ".venv",
   "language": "python",
   "name": "python3"
  },
  "language_info": {
   "codemirror_mode": {
    "name": "ipython",
    "version": 3
   },
   "file_extension": ".py",
   "mimetype": "text/x-python",
   "name": "python",
   "nbconvert_exporter": "python",
   "pygments_lexer": "ipython3",
   "version": "3.12.5"
  }
 },
 "nbformat": 4,
 "nbformat_minor": 2
}
